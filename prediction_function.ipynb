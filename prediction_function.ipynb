{
 "cells": [
  {
   "cell_type": "markdown",
   "metadata": {},
   "source": [
    "# Breast Cancer Prediction Function"
   ]
  },
  {
   "cell_type": "code",
   "execution_count": 7,
   "metadata": {},
   "outputs": [],
   "source": [
    "import joblib"
   ]
  },
  {
   "cell_type": "code",
   "execution_count": 8,
   "metadata": {},
   "outputs": [],
   "source": [
    "model = joblib.load('./model.pkl')\n",
    "encoder = joblib.load('./encoder.pkl')"
   ]
  },
  {
   "cell_type": "code",
   "execution_count": 9,
   "metadata": {},
   "outputs": [],
   "source": [
    "def cancer_prediction(data,model,encoder):\n",
    "    brca1_chromosome = 17\n",
    "    brca1_reference = data['brca1_ref']\n",
    "    brca1_alternate = data['brca1_alt']\n",
    "    brca2_chromosome = 13\n",
    "    brca2_reference = data['brca2_ref']\n",
    "    brca2_alternate = data['brca2_alt']\n",
    "    atm_chromosome = 11\n",
    "    atm_reference = data['atm_ref']\n",
    "    atm_alternate = data['atm_alt']\n",
    "\n",
    "    \n",
    "    prediction_data = [[\n",
    "        brca1_chromosome,\n",
    "        brca1_reference,\n",
    "        brca1_alternate,\n",
    "        brca2_chromosome,\n",
    "        brca2_reference,\n",
    "        brca2_alternate,\n",
    "        atm_chromosome,\n",
    "        atm_reference,\n",
    "        atm_alternate\n",
    "    ]]\n",
    "    \n",
    "    encoded_data = encoder.transform(prediction_data)\n",
    "    \n",
    "    prediction = model.predict(encoded_data)\n",
    "    \n",
    "    return prediction\n"
   ]
  },
  {
   "cell_type": "code",
   "execution_count": null,
   "metadata": {},
   "outputs": [],
   "source": []
  }
 ],
 "metadata": {
  "kernelspec": {
   "display_name": "Python 3",
   "language": "python",
   "name": "python3"
  },
  "language_info": {
   "codemirror_mode": {
    "name": "ipython",
    "version": 3
   },
   "file_extension": ".py",
   "mimetype": "text/x-python",
   "name": "python",
   "nbconvert_exporter": "python",
   "pygments_lexer": "ipython3",
   "version": "3.8.3"
  }
 },
 "nbformat": 4,
 "nbformat_minor": 4
}
