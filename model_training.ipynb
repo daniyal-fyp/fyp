{
 "cells": [
  {
   "cell_type": "markdown",
   "metadata": {},
   "source": [
    "# Breast Cancer Prediction"
   ]
  },
  {
   "cell_type": "markdown",
   "metadata": {},
   "source": [
    "## Import Libraries"
   ]
  },
  {
   "cell_type": "code",
   "execution_count": 1,
   "metadata": {},
   "outputs": [],
   "source": [
    "import numpy as np\n",
    "import pandas as pd\n",
    "import seaborn as sns\n",
    "import matplotlib.pyplot as plt\n",
    "\n",
    "sns.set()"
   ]
  },
  {
   "cell_type": "code",
   "execution_count": 2,
   "metadata": {},
   "outputs": [],
   "source": [
    "from sklearn.preprocessing import OneHotEncoder\n",
    "from sklearn.model_selection import train_test_split    \n",
    "from sklearn.model_selection import GridSearchCV"
   ]
  },
  {
   "cell_type": "code",
   "execution_count": 3,
   "metadata": {},
   "outputs": [],
   "source": [
    "from sklearn import svm\n",
    "from sklearn.ensemble import RandomForestClassifier\n",
    "from sklearn.linear_model import LogisticRegression\n",
    "from sklearn.naive_bayes import GaussianNB\n",
    "from sklearn.naive_bayes import MultinomialNB\n",
    "from sklearn.tree import DecisionTreeClassifier"
   ]
  },
  {
   "cell_type": "code",
   "execution_count": 4,
   "metadata": {},
   "outputs": [],
   "source": [
    "from sklearn.metrics import accuracy_score\n",
    "from sklearn.metrics import classification_report\n",
    "from sklearn.metrics import confusion_matrix"
   ]
  },
  {
   "cell_type": "code",
   "execution_count": 5,
   "metadata": {},
   "outputs": [],
   "source": [
    "import warnings\n",
    "warnings.filterwarnings('ignore')"
   ]
  },
  {
   "cell_type": "markdown",
   "metadata": {},
   "source": [
    "### Load the datasets"
   ]
  },
  {
   "cell_type": "code",
   "execution_count": 6,
   "metadata": {},
   "outputs": [],
   "source": [
    "xls = pd.ExcelFile('./Dataset.xlsx')\n",
    "pathogenic_df = pd.read_excel(xls, 'Pathogenic',skiprows=[0])\n",
    "benign_df = pd.read_excel(xls, 'Benign',skiprows=[0])"
   ]
  },
  {
   "cell_type": "code",
   "execution_count": 7,
   "metadata": {},
   "outputs": [
    {
     "data": {
      "text/html": [
       "<div>\n",
       "<style scoped>\n",
       "    .dataframe tbody tr th:only-of-type {\n",
       "        vertical-align: middle;\n",
       "    }\n",
       "\n",
       "    .dataframe tbody tr th {\n",
       "        vertical-align: top;\n",
       "    }\n",
       "\n",
       "    .dataframe thead th {\n",
       "        text-align: right;\n",
       "    }\n",
       "</style>\n",
       "<table border=\"1\" class=\"dataframe\">\n",
       "  <thead>\n",
       "    <tr style=\"text-align: right;\">\n",
       "      <th></th>\n",
       "      <th>Brca1_Chromosome</th>\n",
       "      <th>Brca1_Reference</th>\n",
       "      <th>Brca1_Alternate</th>\n",
       "      <th>Brca2_Chromosome</th>\n",
       "      <th>Brca2_Reference</th>\n",
       "      <th>Brca2_Alternate</th>\n",
       "      <th>ATM_Chromosome</th>\n",
       "      <th>ATM_Reference</th>\n",
       "      <th>ATM_Alternate</th>\n",
       "    </tr>\n",
       "  </thead>\n",
       "  <tbody>\n",
       "    <tr>\n",
       "      <th>0</th>\n",
       "      <td>17</td>\n",
       "      <td>C</td>\n",
       "      <td>T</td>\n",
       "      <td>13</td>\n",
       "      <td>G</td>\n",
       "      <td>A</td>\n",
       "      <td>11</td>\n",
       "      <td>T</td>\n",
       "      <td>C</td>\n",
       "    </tr>\n",
       "    <tr>\n",
       "      <th>1</th>\n",
       "      <td>17</td>\n",
       "      <td>A</td>\n",
       "      <td>G</td>\n",
       "      <td>13</td>\n",
       "      <td>G</td>\n",
       "      <td>A</td>\n",
       "      <td>11</td>\n",
       "      <td>G</td>\n",
       "      <td>A</td>\n",
       "    </tr>\n",
       "    <tr>\n",
       "      <th>2</th>\n",
       "      <td>17</td>\n",
       "      <td>G</td>\n",
       "      <td>C</td>\n",
       "      <td>13</td>\n",
       "      <td>GAT</td>\n",
       "      <td>G</td>\n",
       "      <td>11</td>\n",
       "      <td>G</td>\n",
       "      <td>A</td>\n",
       "    </tr>\n",
       "    <tr>\n",
       "      <th>3</th>\n",
       "      <td>17</td>\n",
       "      <td>A</td>\n",
       "      <td>G</td>\n",
       "      <td>13</td>\n",
       "      <td>AC</td>\n",
       "      <td>A</td>\n",
       "      <td>11</td>\n",
       "      <td>C</td>\n",
       "      <td>T</td>\n",
       "    </tr>\n",
       "    <tr>\n",
       "      <th>4</th>\n",
       "      <td>17</td>\n",
       "      <td>T</td>\n",
       "      <td>C</td>\n",
       "      <td>13</td>\n",
       "      <td>G</td>\n",
       "      <td>T</td>\n",
       "      <td>11</td>\n",
       "      <td>CA</td>\n",
       "      <td>C</td>\n",
       "    </tr>\n",
       "  </tbody>\n",
       "</table>\n",
       "</div>"
      ],
      "text/plain": [
       "   Brca1_Chromosome Brca1_Reference Brca1_Alternate  Brca2_Chromosome  \\\n",
       "0                17               C               T                13   \n",
       "1                17               A               G                13   \n",
       "2                17               G               C                13   \n",
       "3                17               A               G                13   \n",
       "4                17               T               C                13   \n",
       "\n",
       "  Brca2_Reference Brca2_Alternate  ATM_Chromosome ATM_Reference ATM_Alternate  \n",
       "0               G               A              11             T             C  \n",
       "1               G               A              11             G             A  \n",
       "2             GAT               G              11             G             A  \n",
       "3              AC               A              11             C             T  \n",
       "4               G               T              11            CA             C  "
      ]
     },
     "execution_count": 7,
     "metadata": {},
     "output_type": "execute_result"
    }
   ],
   "source": [
    "pathogenic_df.head()"
   ]
  },
  {
   "cell_type": "code",
   "execution_count": 8,
   "metadata": {},
   "outputs": [
    {
     "data": {
      "text/html": [
       "<div>\n",
       "<style scoped>\n",
       "    .dataframe tbody tr th:only-of-type {\n",
       "        vertical-align: middle;\n",
       "    }\n",
       "\n",
       "    .dataframe tbody tr th {\n",
       "        vertical-align: top;\n",
       "    }\n",
       "\n",
       "    .dataframe thead th {\n",
       "        text-align: right;\n",
       "    }\n",
       "</style>\n",
       "<table border=\"1\" class=\"dataframe\">\n",
       "  <thead>\n",
       "    <tr style=\"text-align: right;\">\n",
       "      <th></th>\n",
       "      <th>Brca1_Chromosome</th>\n",
       "      <th>Brca1_Reference</th>\n",
       "      <th>Brca1_Alternate</th>\n",
       "      <th>Brca2_Chromosome</th>\n",
       "      <th>Brca2_Reference</th>\n",
       "      <th>Brca2_Alternate</th>\n",
       "      <th>ATM_Chromosome</th>\n",
       "      <th>ATM_Reference</th>\n",
       "      <th>ATM_Alternate</th>\n",
       "    </tr>\n",
       "  </thead>\n",
       "  <tbody>\n",
       "    <tr>\n",
       "      <th>0</th>\n",
       "      <td>17</td>\n",
       "      <td>G</td>\n",
       "      <td>C</td>\n",
       "      <td>13</td>\n",
       "      <td>C</td>\n",
       "      <td>G</td>\n",
       "      <td>11</td>\n",
       "      <td>A</td>\n",
       "      <td>G</td>\n",
       "    </tr>\n",
       "    <tr>\n",
       "      <th>1</th>\n",
       "      <td>17</td>\n",
       "      <td>G</td>\n",
       "      <td>C</td>\n",
       "      <td>13</td>\n",
       "      <td>T</td>\n",
       "      <td>C</td>\n",
       "      <td>11</td>\n",
       "      <td>A</td>\n",
       "      <td>G</td>\n",
       "    </tr>\n",
       "    <tr>\n",
       "      <th>2</th>\n",
       "      <td>17</td>\n",
       "      <td>T</td>\n",
       "      <td>G</td>\n",
       "      <td>13</td>\n",
       "      <td>C</td>\n",
       "      <td>T</td>\n",
       "      <td>11</td>\n",
       "      <td>G</td>\n",
       "      <td>A</td>\n",
       "    </tr>\n",
       "    <tr>\n",
       "      <th>3</th>\n",
       "      <td>17</td>\n",
       "      <td>A</td>\n",
       "      <td>C</td>\n",
       "      <td>13</td>\n",
       "      <td>C</td>\n",
       "      <td>T</td>\n",
       "      <td>11</td>\n",
       "      <td>G</td>\n",
       "      <td>T</td>\n",
       "    </tr>\n",
       "    <tr>\n",
       "      <th>4</th>\n",
       "      <td>17</td>\n",
       "      <td>G</td>\n",
       "      <td>T</td>\n",
       "      <td>13</td>\n",
       "      <td>A</td>\n",
       "      <td>G</td>\n",
       "      <td>11</td>\n",
       "      <td>G</td>\n",
       "      <td>C</td>\n",
       "    </tr>\n",
       "  </tbody>\n",
       "</table>\n",
       "</div>"
      ],
      "text/plain": [
       "   Brca1_Chromosome Brca1_Reference Brca1_Alternate  Brca2_Chromosome  \\\n",
       "0                17               G               C                13   \n",
       "1                17               G               C                13   \n",
       "2                17               T               G                13   \n",
       "3                17               A               C                13   \n",
       "4                17               G               T                13   \n",
       "\n",
       "  Brca2_Reference Brca2_Alternate  ATM_Chromosome ATM_Reference ATM_Alternate  \n",
       "0               C               G              11             A             G  \n",
       "1               T               C              11             A             G  \n",
       "2               C               T              11             G             A  \n",
       "3               C               T              11             G             T  \n",
       "4               A               G              11             G             C  "
      ]
     },
     "execution_count": 8,
     "metadata": {},
     "output_type": "execute_result"
    }
   ],
   "source": [
    "benign_df.head()"
   ]
  },
  {
   "cell_type": "markdown",
   "metadata": {},
   "source": [
    "## Checking Null Values"
   ]
  },
  {
   "cell_type": "code",
   "execution_count": 9,
   "metadata": {},
   "outputs": [
    {
     "data": {
      "text/plain": [
       "Brca1_Chromosome    0\n",
       "Brca1_Reference     0\n",
       "Brca1_Alternate     0\n",
       "Brca2_Chromosome    0\n",
       "Brca2_Reference     0\n",
       "Brca2_Alternate     0\n",
       "ATM_Chromosome      0\n",
       "ATM_Reference       0\n",
       "ATM_Alternate       0\n",
       "dtype: int64"
      ]
     },
     "execution_count": 9,
     "metadata": {},
     "output_type": "execute_result"
    }
   ],
   "source": [
    "pathogenic_df.isna().sum()"
   ]
  },
  {
   "cell_type": "code",
   "execution_count": 10,
   "metadata": {},
   "outputs": [
    {
     "data": {
      "text/plain": [
       "Brca1_Chromosome    0\n",
       "Brca1_Reference     0\n",
       "Brca1_Alternate     0\n",
       "Brca2_Chromosome    0\n",
       "Brca2_Reference     0\n",
       "Brca2_Alternate     0\n",
       "ATM_Chromosome      0\n",
       "ATM_Reference       0\n",
       "ATM_Alternate       0\n",
       "dtype: int64"
      ]
     },
     "execution_count": 10,
     "metadata": {},
     "output_type": "execute_result"
    }
   ],
   "source": [
    "benign_df.isna().sum()"
   ]
  },
  {
   "cell_type": "code",
   "execution_count": 11,
   "metadata": {},
   "outputs": [
    {
     "data": {
      "text/plain": [
       "((3205, 9), (3205, 9))"
      ]
     },
     "execution_count": 11,
     "metadata": {},
     "output_type": "execute_result"
    }
   ],
   "source": [
    "pathogenic_df.shape, benign_df.shape"
   ]
  },
  {
   "cell_type": "markdown",
   "metadata": {},
   "source": [
    "## Feature Engineering"
   ]
  },
  {
   "cell_type": "markdown",
   "metadata": {},
   "source": [
    "### Pathogenic"
   ]
  },
  {
   "cell_type": "code",
   "execution_count": 12,
   "metadata": {},
   "outputs": [
    {
     "data": {
      "text/plain": [
       "Index(['Brca1_Chromosome', 'Brca1_Reference', 'Brca1_Alternate',\n",
       "       'Brca2_Chromosome', 'Brca2_Reference', 'Brca2_Alternate',\n",
       "       'ATM_Chromosome', 'ATM_Reference', 'ATM_Alternate'],\n",
       "      dtype='object')"
      ]
     },
     "execution_count": 12,
     "metadata": {},
     "output_type": "execute_result"
    }
   ],
   "source": [
    "pathogenic_df.columns"
   ]
  },
  {
   "cell_type": "code",
   "execution_count": 13,
   "metadata": {},
   "outputs": [],
   "source": [
    "pathogenic_df = pathogenic_df[pathogenic_df['Brca1_Reference'].str.len() == 1]"
   ]
  },
  {
   "cell_type": "code",
   "execution_count": 14,
   "metadata": {},
   "outputs": [],
   "source": [
    "pathogenic_df = pathogenic_df[pathogenic_df['Brca1_Alternate'].str.len() == 1]"
   ]
  },
  {
   "cell_type": "code",
   "execution_count": 15,
   "metadata": {},
   "outputs": [],
   "source": [
    "pathogenic_df = pathogenic_df[pathogenic_df['Brca2_Reference'].str.len() == 1]"
   ]
  },
  {
   "cell_type": "code",
   "execution_count": 16,
   "metadata": {},
   "outputs": [],
   "source": [
    "pathogenic_df = pathogenic_df[pathogenic_df['Brca2_Alternate'].str.len() == 1]"
   ]
  },
  {
   "cell_type": "code",
   "execution_count": 17,
   "metadata": {},
   "outputs": [],
   "source": [
    "pathogenic_df = pathogenic_df[pathogenic_df['ATM_Reference'].str.len() == 1]"
   ]
  },
  {
   "cell_type": "code",
   "execution_count": 18,
   "metadata": {},
   "outputs": [],
   "source": [
    "pathogenic_df = pathogenic_df[pathogenic_df['ATM_Alternate'].str.len() == 1]"
   ]
  },
  {
   "cell_type": "code",
   "execution_count": 19,
   "metadata": {},
   "outputs": [
    {
     "data": {
      "text/plain": [
       "1    2321\n",
       "Name: ATM_Alternate, dtype: int64"
      ]
     },
     "execution_count": 19,
     "metadata": {},
     "output_type": "execute_result"
    }
   ],
   "source": [
    "pathogenic_df['ATM_Alternate'].str.len().value_counts()"
   ]
  },
  {
   "cell_type": "code",
   "execution_count": 20,
   "metadata": {},
   "outputs": [
    {
     "data": {
      "text/plain": [
       "(2321, 9)"
      ]
     },
     "execution_count": 20,
     "metadata": {},
     "output_type": "execute_result"
    }
   ],
   "source": [
    "pathogenic_df.shape"
   ]
  },
  {
   "cell_type": "code",
   "execution_count": 21,
   "metadata": {},
   "outputs": [
    {
     "data": {
      "text/html": [
       "<div>\n",
       "<style scoped>\n",
       "    .dataframe tbody tr th:only-of-type {\n",
       "        vertical-align: middle;\n",
       "    }\n",
       "\n",
       "    .dataframe tbody tr th {\n",
       "        vertical-align: top;\n",
       "    }\n",
       "\n",
       "    .dataframe thead th {\n",
       "        text-align: right;\n",
       "    }\n",
       "</style>\n",
       "<table border=\"1\" class=\"dataframe\">\n",
       "  <thead>\n",
       "    <tr style=\"text-align: right;\">\n",
       "      <th></th>\n",
       "      <th>Brca1_Chromosome</th>\n",
       "      <th>Brca1_Reference</th>\n",
       "      <th>Brca1_Alternate</th>\n",
       "      <th>Brca2_Chromosome</th>\n",
       "      <th>Brca2_Reference</th>\n",
       "      <th>Brca2_Alternate</th>\n",
       "      <th>ATM_Chromosome</th>\n",
       "      <th>ATM_Reference</th>\n",
       "      <th>ATM_Alternate</th>\n",
       "    </tr>\n",
       "  </thead>\n",
       "  <tbody>\n",
       "    <tr>\n",
       "      <th>0</th>\n",
       "      <td>17</td>\n",
       "      <td>C</td>\n",
       "      <td>T</td>\n",
       "      <td>13</td>\n",
       "      <td>G</td>\n",
       "      <td>A</td>\n",
       "      <td>11</td>\n",
       "      <td>T</td>\n",
       "      <td>C</td>\n",
       "    </tr>\n",
       "    <tr>\n",
       "      <th>1</th>\n",
       "      <td>17</td>\n",
       "      <td>A</td>\n",
       "      <td>G</td>\n",
       "      <td>13</td>\n",
       "      <td>G</td>\n",
       "      <td>A</td>\n",
       "      <td>11</td>\n",
       "      <td>G</td>\n",
       "      <td>A</td>\n",
       "    </tr>\n",
       "    <tr>\n",
       "      <th>5</th>\n",
       "      <td>17</td>\n",
       "      <td>G</td>\n",
       "      <td>C</td>\n",
       "      <td>13</td>\n",
       "      <td>G</td>\n",
       "      <td>A</td>\n",
       "      <td>11</td>\n",
       "      <td>C</td>\n",
       "      <td>T</td>\n",
       "    </tr>\n",
       "    <tr>\n",
       "      <th>6</th>\n",
       "      <td>17</td>\n",
       "      <td>C</td>\n",
       "      <td>T</td>\n",
       "      <td>13</td>\n",
       "      <td>G</td>\n",
       "      <td>A</td>\n",
       "      <td>11</td>\n",
       "      <td>G</td>\n",
       "      <td>A</td>\n",
       "    </tr>\n",
       "    <tr>\n",
       "      <th>9</th>\n",
       "      <td>17</td>\n",
       "      <td>G</td>\n",
       "      <td>A</td>\n",
       "      <td>13</td>\n",
       "      <td>A</td>\n",
       "      <td>C</td>\n",
       "      <td>11</td>\n",
       "      <td>C</td>\n",
       "      <td>G</td>\n",
       "    </tr>\n",
       "    <tr>\n",
       "      <th>...</th>\n",
       "      <td>...</td>\n",
       "      <td>...</td>\n",
       "      <td>...</td>\n",
       "      <td>...</td>\n",
       "      <td>...</td>\n",
       "      <td>...</td>\n",
       "      <td>...</td>\n",
       "      <td>...</td>\n",
       "      <td>...</td>\n",
       "    </tr>\n",
       "    <tr>\n",
       "      <th>3191</th>\n",
       "      <td>17</td>\n",
       "      <td>G</td>\n",
       "      <td>T</td>\n",
       "      <td>13</td>\n",
       "      <td>A</td>\n",
       "      <td>G</td>\n",
       "      <td>11</td>\n",
       "      <td>C</td>\n",
       "      <td>T</td>\n",
       "    </tr>\n",
       "    <tr>\n",
       "      <th>3193</th>\n",
       "      <td>17</td>\n",
       "      <td>T</td>\n",
       "      <td>A</td>\n",
       "      <td>13</td>\n",
       "      <td>A</td>\n",
       "      <td>G</td>\n",
       "      <td>11</td>\n",
       "      <td>C</td>\n",
       "      <td>T</td>\n",
       "    </tr>\n",
       "    <tr>\n",
       "      <th>3194</th>\n",
       "      <td>17</td>\n",
       "      <td>T</td>\n",
       "      <td>C</td>\n",
       "      <td>13</td>\n",
       "      <td>C</td>\n",
       "      <td>T</td>\n",
       "      <td>11</td>\n",
       "      <td>G</td>\n",
       "      <td>A</td>\n",
       "    </tr>\n",
       "    <tr>\n",
       "      <th>3199</th>\n",
       "      <td>17</td>\n",
       "      <td>G</td>\n",
       "      <td>T</td>\n",
       "      <td>13</td>\n",
       "      <td>A</td>\n",
       "      <td>G</td>\n",
       "      <td>11</td>\n",
       "      <td>C</td>\n",
       "      <td>T</td>\n",
       "    </tr>\n",
       "    <tr>\n",
       "      <th>3201</th>\n",
       "      <td>17</td>\n",
       "      <td>T</td>\n",
       "      <td>C</td>\n",
       "      <td>13</td>\n",
       "      <td>A</td>\n",
       "      <td>G</td>\n",
       "      <td>11</td>\n",
       "      <td>C</td>\n",
       "      <td>T</td>\n",
       "    </tr>\n",
       "  </tbody>\n",
       "</table>\n",
       "<p>2321 rows × 9 columns</p>\n",
       "</div>"
      ],
      "text/plain": [
       "      Brca1_Chromosome Brca1_Reference Brca1_Alternate  Brca2_Chromosome  \\\n",
       "0                   17               C               T                13   \n",
       "1                   17               A               G                13   \n",
       "5                   17               G               C                13   \n",
       "6                   17               C               T                13   \n",
       "9                   17               G               A                13   \n",
       "...                ...             ...             ...               ...   \n",
       "3191                17               G               T                13   \n",
       "3193                17               T               A                13   \n",
       "3194                17               T               C                13   \n",
       "3199                17               G               T                13   \n",
       "3201                17               T               C                13   \n",
       "\n",
       "     Brca2_Reference Brca2_Alternate  ATM_Chromosome ATM_Reference  \\\n",
       "0                  G               A              11             T   \n",
       "1                  G               A              11             G   \n",
       "5                  G               A              11             C   \n",
       "6                  G               A              11             G   \n",
       "9                  A               C              11             C   \n",
       "...              ...             ...             ...           ...   \n",
       "3191               A               G              11             C   \n",
       "3193               A               G              11             C   \n",
       "3194               C               T              11             G   \n",
       "3199               A               G              11             C   \n",
       "3201               A               G              11             C   \n",
       "\n",
       "     ATM_Alternate  \n",
       "0                C  \n",
       "1                A  \n",
       "5                T  \n",
       "6                A  \n",
       "9                G  \n",
       "...            ...  \n",
       "3191             T  \n",
       "3193             T  \n",
       "3194             A  \n",
       "3199             T  \n",
       "3201             T  \n",
       "\n",
       "[2321 rows x 9 columns]"
      ]
     },
     "execution_count": 21,
     "metadata": {},
     "output_type": "execute_result"
    }
   ],
   "source": [
    "pathogenic_df"
   ]
  },
  {
   "cell_type": "markdown",
   "metadata": {},
   "source": [
    "### Benign"
   ]
  },
  {
   "cell_type": "code",
   "execution_count": 22,
   "metadata": {},
   "outputs": [
    {
     "data": {
      "text/plain": [
       "Index(['Brca1_Chromosome', 'Brca1_Reference', 'Brca1_Alternate',\n",
       "       'Brca2_Chromosome', 'Brca2_Reference', 'Brca2_Alternate',\n",
       "       'ATM_Chromosome', 'ATM_Reference', 'ATM_Alternate'],\n",
       "      dtype='object')"
      ]
     },
     "execution_count": 22,
     "metadata": {},
     "output_type": "execute_result"
    }
   ],
   "source": [
    "benign_df.columns"
   ]
  },
  {
   "cell_type": "code",
   "execution_count": 23,
   "metadata": {},
   "outputs": [],
   "source": [
    "benign_df = benign_df[benign_df['Brca1_Reference'].str.len() == 1]"
   ]
  },
  {
   "cell_type": "code",
   "execution_count": 24,
   "metadata": {},
   "outputs": [],
   "source": [
    "benign_df = benign_df[benign_df['Brca1_Alternate'].str.len() == 1]"
   ]
  },
  {
   "cell_type": "code",
   "execution_count": 25,
   "metadata": {},
   "outputs": [],
   "source": [
    "benign_df = benign_df[benign_df['Brca2_Reference'].str.len() == 1]"
   ]
  },
  {
   "cell_type": "code",
   "execution_count": 26,
   "metadata": {},
   "outputs": [],
   "source": [
    "benign_df = benign_df[benign_df['Brca2_Alternate'].str.len() == 1]"
   ]
  },
  {
   "cell_type": "code",
   "execution_count": 27,
   "metadata": {},
   "outputs": [],
   "source": [
    "benign_df = benign_df[benign_df['ATM_Reference'].str.len() == 1]"
   ]
  },
  {
   "cell_type": "code",
   "execution_count": 28,
   "metadata": {},
   "outputs": [],
   "source": [
    "benign_df = benign_df[benign_df['ATM_Alternate'].str.len() == 1]"
   ]
  },
  {
   "cell_type": "code",
   "execution_count": 29,
   "metadata": {},
   "outputs": [
    {
     "data": {
      "text/plain": [
       "(2609, 9)"
      ]
     },
     "execution_count": 29,
     "metadata": {},
     "output_type": "execute_result"
    }
   ],
   "source": [
    "benign_df.shape"
   ]
  },
  {
   "cell_type": "markdown",
   "metadata": {},
   "source": [
    "### Adding result column"
   ]
  },
  {
   "cell_type": "code",
   "execution_count": 30,
   "metadata": {},
   "outputs": [],
   "source": [
    "benign_df['result'] = 0\n",
    "pathogenic_df['result'] = 1 "
   ]
  },
  {
   "cell_type": "markdown",
   "metadata": {},
   "source": [
    "### Merging dataset"
   ]
  },
  {
   "cell_type": "code",
   "execution_count": 31,
   "metadata": {},
   "outputs": [],
   "source": [
    "df = pd.concat([benign_df,pathogenic_df],ignore_index=True)"
   ]
  },
  {
   "cell_type": "code",
   "execution_count": 32,
   "metadata": {},
   "outputs": [
    {
     "data": {
      "text/plain": [
       "(4930, 10)"
      ]
     },
     "execution_count": 32,
     "metadata": {},
     "output_type": "execute_result"
    }
   ],
   "source": [
    "df.shape"
   ]
  },
  {
   "cell_type": "markdown",
   "metadata": {},
   "source": [
    "### Separating Dependent and Independent Variables "
   ]
  },
  {
   "cell_type": "code",
   "execution_count": 33,
   "metadata": {},
   "outputs": [],
   "source": [
    "X = df.drop('result',axis=1)\n",
    "y = df['result']"
   ]
  },
  {
   "cell_type": "markdown",
   "metadata": {},
   "source": [
    "## Train Test Split"
   ]
  },
  {
   "cell_type": "code",
   "execution_count": 34,
   "metadata": {},
   "outputs": [],
   "source": [
    "X_train, X_test, y_train, y_test = train_test_split(X, y, test_size=0.2,shuffle=True )"
   ]
  },
  {
   "cell_type": "markdown",
   "metadata": {},
   "source": [
    "## Converting Categorical Variable into Numerical"
   ]
  },
  {
   "cell_type": "code",
   "execution_count": 35,
   "metadata": {},
   "outputs": [],
   "source": [
    "ohe = OneHotEncoder()"
   ]
  },
  {
   "cell_type": "code",
   "execution_count": 36,
   "metadata": {},
   "outputs": [
    {
     "data": {
      "text/plain": [
       "OneHotEncoder()"
      ]
     },
     "execution_count": 36,
     "metadata": {},
     "output_type": "execute_result"
    }
   ],
   "source": [
    "ohe.fit(X_train)"
   ]
  },
  {
   "cell_type": "code",
   "execution_count": 37,
   "metadata": {},
   "outputs": [],
   "source": [
    "ohe_X_train = ohe.transform(X_train)"
   ]
  },
  {
   "cell_type": "code",
   "execution_count": 38,
   "metadata": {},
   "outputs": [],
   "source": [
    "ohe_X_test = ohe.transform(X_test)"
   ]
  },
  {
   "cell_type": "code",
   "execution_count": 39,
   "metadata": {},
   "outputs": [
    {
     "data": {
      "text/plain": [
       "[array([17], dtype=int64),\n",
       " array(['A', 'C', 'G', 'T'], dtype=object),\n",
       " array(['A', 'C', 'G', 'T'], dtype=object),\n",
       " array([13], dtype=int64),\n",
       " array(['A', 'C', 'G', 'T'], dtype=object),\n",
       " array(['A', 'C', 'G', 'T'], dtype=object),\n",
       " array([11], dtype=int64),\n",
       " array(['A', 'C', 'G', 'T'], dtype=object),\n",
       " array(['A', 'C', 'G', 'T'], dtype=object)]"
      ]
     },
     "execution_count": 39,
     "metadata": {},
     "output_type": "execute_result"
    }
   ],
   "source": [
    "ohe.categories_"
   ]
  },
  {
   "cell_type": "markdown",
   "metadata": {},
   "source": [
    "## Model Training"
   ]
  },
  {
   "cell_type": "code",
   "execution_count": 40,
   "metadata": {},
   "outputs": [],
   "source": [
    "model_params = {\n",
    "    'svm': {\n",
    "        'model': svm.SVC(gamma='auto'),\n",
    "        'params' : {\n",
    "            'C': [1,10,20],\n",
    "            'kernel': ['rbf','linear']\n",
    "        }  \n",
    "    },\n",
    "    'random_forest': {\n",
    "        'model': RandomForestClassifier(),\n",
    "        'params' : {\n",
    "            'n_estimators': [1,5,10]\n",
    "        }\n",
    "    },\n",
    "    'logistic_regression' : {\n",
    "        'model': LogisticRegression(),\n",
    "        'params': {\n",
    "            'C': [1,5,10]\n",
    "        }\n",
    "    },\n",
    "    'naive_bayes_gaussian': {\n",
    "        'model': GaussianNB(),\n",
    "        'params': {}\n",
    "    },\n",
    "    'naive_bayes_multinomial': {\n",
    "        'model': MultinomialNB(),\n",
    "        'params': {}\n",
    "    },\n",
    "    'decision_tree': {\n",
    "        'model': DecisionTreeClassifier(),\n",
    "        'params': {\n",
    "            'criterion': ['gini','entropy'],\n",
    "            \n",
    "        }\n",
    "    }     \n",
    "}"
   ]
  },
  {
   "cell_type": "code",
   "execution_count": 41,
   "metadata": {},
   "outputs": [
    {
     "data": {
      "text/html": [
       "<div>\n",
       "<style scoped>\n",
       "    .dataframe tbody tr th:only-of-type {\n",
       "        vertical-align: middle;\n",
       "    }\n",
       "\n",
       "    .dataframe tbody tr th {\n",
       "        vertical-align: top;\n",
       "    }\n",
       "\n",
       "    .dataframe thead th {\n",
       "        text-align: right;\n",
       "    }\n",
       "</style>\n",
       "<table border=\"1\" class=\"dataframe\">\n",
       "  <thead>\n",
       "    <tr style=\"text-align: right;\">\n",
       "      <th></th>\n",
       "      <th>model</th>\n",
       "      <th>best_score</th>\n",
       "      <th>best_params</th>\n",
       "    </tr>\n",
       "  </thead>\n",
       "  <tbody>\n",
       "    <tr>\n",
       "      <th>0</th>\n",
       "      <td>svm</td>\n",
       "      <td>0.573781</td>\n",
       "      <td>{'C': 20, 'kernel': 'rbf'}</td>\n",
       "    </tr>\n",
       "    <tr>\n",
       "      <th>1</th>\n",
       "      <td>random_forest</td>\n",
       "      <td>0.552735</td>\n",
       "      <td>{'n_estimators': 5}</td>\n",
       "    </tr>\n",
       "    <tr>\n",
       "      <th>2</th>\n",
       "      <td>logistic_regression</td>\n",
       "      <td>0.557303</td>\n",
       "      <td>{'C': 1}</td>\n",
       "    </tr>\n",
       "    <tr>\n",
       "      <th>3</th>\n",
       "      <td>naive_bayes_gaussian</td>\n",
       "      <td>0.558576</td>\n",
       "      <td>{}</td>\n",
       "    </tr>\n",
       "    <tr>\n",
       "      <th>4</th>\n",
       "      <td>naive_bayes_multinomial</td>\n",
       "      <td>0.559842</td>\n",
       "      <td>{}</td>\n",
       "    </tr>\n",
       "    <tr>\n",
       "      <th>5</th>\n",
       "      <td>decision_tree</td>\n",
       "      <td>0.548422</td>\n",
       "      <td>{'criterion': 'entropy'}</td>\n",
       "    </tr>\n",
       "  </tbody>\n",
       "</table>\n",
       "</div>"
      ],
      "text/plain": [
       "                     model  best_score                 best_params\n",
       "0                      svm    0.573781  {'C': 20, 'kernel': 'rbf'}\n",
       "1            random_forest    0.552735         {'n_estimators': 5}\n",
       "2      logistic_regression    0.557303                    {'C': 1}\n",
       "3     naive_bayes_gaussian    0.558576                          {}\n",
       "4  naive_bayes_multinomial    0.559842                          {}\n",
       "5            decision_tree    0.548422    {'criterion': 'entropy'}"
      ]
     },
     "execution_count": 41,
     "metadata": {},
     "output_type": "execute_result"
    }
   ],
   "source": [
    "scores = []\n",
    "\n",
    "for model_name, mp in model_params.items():\n",
    "    clf =  GridSearchCV(mp['model'], mp['params'], cv=5, return_train_score=False)\n",
    "    clf.fit(ohe_X_train.toarray(), y_train)\n",
    "    scores.append({\n",
    "        'model': model_name,\n",
    "        'best_score': clf.best_score_,\n",
    "        'best_params': clf.best_params_\n",
    "    })\n",
    "    \n",
    "score_df = pd.DataFrame(scores,columns=['model','best_score','best_params'])\n",
    "score_df"
   ]
  },
  {
   "cell_type": "code",
   "execution_count": 44,
   "metadata": {},
   "outputs": [],
   "source": [
    "model = svm.SVC(gamma='auto',C=20,kernel='rbf')"
   ]
  },
  {
   "cell_type": "code",
   "execution_count": 45,
   "metadata": {},
   "outputs": [
    {
     "data": {
      "text/plain": [
       "SVC(C=20, gamma='auto')"
      ]
     },
     "execution_count": 45,
     "metadata": {},
     "output_type": "execute_result"
    }
   ],
   "source": [
    "model.fit(ohe_X_train,y_train)"
   ]
  },
  {
   "cell_type": "code",
   "execution_count": 46,
   "metadata": {},
   "outputs": [],
   "source": [
    "prediction = model.predict(ohe_X_test)"
   ]
  },
  {
   "cell_type": "code",
   "execution_count": 47,
   "metadata": {},
   "outputs": [
    {
     "name": "stdout",
     "output_type": "stream",
     "text": [
      "Accuracy Score :  53.85395537525355 %\n"
     ]
    }
   ],
   "source": [
    "print('Accuracy Score : ',accuracy_score(y_test,prediction)*100,\"%\")"
   ]
  },
  {
   "cell_type": "markdown",
   "metadata": {},
   "source": [
    "## Training on Complete Dataset"
   ]
  },
  {
   "cell_type": "code",
   "execution_count": 48,
   "metadata": {},
   "outputs": [],
   "source": [
    "ohe_X = ohe.transform(X)"
   ]
  },
  {
   "cell_type": "code",
   "execution_count": 49,
   "metadata": {},
   "outputs": [],
   "source": [
    "model = svm.SVC(gamma='auto',C=20,kernel='rbf')"
   ]
  },
  {
   "cell_type": "code",
   "execution_count": 50,
   "metadata": {},
   "outputs": [
    {
     "data": {
      "text/plain": [
       "SVC(C=20, gamma='auto')"
      ]
     },
     "execution_count": 50,
     "metadata": {},
     "output_type": "execute_result"
    }
   ],
   "source": [
    "model.fit(ohe_X,y)"
   ]
  },
  {
   "cell_type": "markdown",
   "metadata": {},
   "source": [
    "## Model Saving"
   ]
  },
  {
   "cell_type": "code",
   "execution_count": 51,
   "metadata": {},
   "outputs": [],
   "source": [
    "import joblib"
   ]
  },
  {
   "cell_type": "code",
   "execution_count": 52,
   "metadata": {},
   "outputs": [
    {
     "data": {
      "text/plain": [
       "['model.pkl']"
      ]
     },
     "execution_count": 52,
     "metadata": {},
     "output_type": "execute_result"
    }
   ],
   "source": [
    "joblib.dump(model,'model.pkl')"
   ]
  },
  {
   "cell_type": "code",
   "execution_count": 53,
   "metadata": {},
   "outputs": [
    {
     "data": {
      "text/plain": [
       "['encoder.pkl']"
      ]
     },
     "execution_count": 53,
     "metadata": {},
     "output_type": "execute_result"
    }
   ],
   "source": [
    "joblib.dump(ohe,'encoder.pkl')"
   ]
  },
  {
   "cell_type": "code",
   "execution_count": null,
   "metadata": {},
   "outputs": [],
   "source": []
  },
  {
   "cell_type": "code",
   "execution_count": null,
   "metadata": {},
   "outputs": [],
   "source": []
  },
  {
   "cell_type": "markdown",
   "metadata": {},
   "source": [
    "## Prediction Function"
   ]
  },
  {
   "cell_type": "code",
   "execution_count": 54,
   "metadata": {},
   "outputs": [
    {
     "name": "stdout",
     "output_type": "stream",
     "text": [
      "Brca1_Chromosome  \t [17]\n",
      "Brca1_Reference  \t ['G' 'T' 'A' 'C']\n",
      "Brca1_Alternate  \t ['C' 'G' 'T' 'A']\n",
      "Brca2_Chromosome  \t [13]\n",
      "Brca2_Reference  \t ['C' 'T' 'A' 'G']\n",
      "Brca2_Alternate  \t ['G' 'C' 'T' 'A']\n",
      "ATM_Chromosome  \t [11]\n",
      "ATM_Reference  \t ['A' 'G' 'T' 'C']\n",
      "ATM_Alternate  \t ['G' 'A' 'T' 'C']\n"
     ]
    }
   ],
   "source": [
    "for col in X.columns:\n",
    "    print(col,\" \\t\", X[col].unique())"
   ]
  },
  {
   "cell_type": "code",
   "execution_count": 58,
   "metadata": {},
   "outputs": [
    {
     "data": {
      "text/html": [
       "<div>\n",
       "<style scoped>\n",
       "    .dataframe tbody tr th:only-of-type {\n",
       "        vertical-align: middle;\n",
       "    }\n",
       "\n",
       "    .dataframe tbody tr th {\n",
       "        vertical-align: top;\n",
       "    }\n",
       "\n",
       "    .dataframe thead th {\n",
       "        text-align: right;\n",
       "    }\n",
       "</style>\n",
       "<table border=\"1\" class=\"dataframe\">\n",
       "  <thead>\n",
       "    <tr style=\"text-align: right;\">\n",
       "      <th></th>\n",
       "      <th>Brca1_Chromosome</th>\n",
       "      <th>Brca1_Reference</th>\n",
       "      <th>Brca1_Alternate</th>\n",
       "      <th>Brca2_Chromosome</th>\n",
       "      <th>Brca2_Reference</th>\n",
       "      <th>Brca2_Alternate</th>\n",
       "      <th>ATM_Chromosome</th>\n",
       "      <th>ATM_Reference</th>\n",
       "      <th>ATM_Alternate</th>\n",
       "    </tr>\n",
       "  </thead>\n",
       "  <tbody>\n",
       "    <tr>\n",
       "      <th>1288</th>\n",
       "      <td>17</td>\n",
       "      <td>G</td>\n",
       "      <td>A</td>\n",
       "      <td>13</td>\n",
       "      <td>G</td>\n",
       "      <td>A</td>\n",
       "      <td>11</td>\n",
       "      <td>A</td>\n",
       "      <td>G</td>\n",
       "    </tr>\n",
       "    <tr>\n",
       "      <th>983</th>\n",
       "      <td>17</td>\n",
       "      <td>C</td>\n",
       "      <td>A</td>\n",
       "      <td>13</td>\n",
       "      <td>T</td>\n",
       "      <td>G</td>\n",
       "      <td>11</td>\n",
       "      <td>G</td>\n",
       "      <td>C</td>\n",
       "    </tr>\n",
       "    <tr>\n",
       "      <th>4319</th>\n",
       "      <td>17</td>\n",
       "      <td>G</td>\n",
       "      <td>A</td>\n",
       "      <td>13</td>\n",
       "      <td>G</td>\n",
       "      <td>A</td>\n",
       "      <td>11</td>\n",
       "      <td>C</td>\n",
       "      <td>T</td>\n",
       "    </tr>\n",
       "    <tr>\n",
       "      <th>4544</th>\n",
       "      <td>17</td>\n",
       "      <td>C</td>\n",
       "      <td>A</td>\n",
       "      <td>13</td>\n",
       "      <td>G</td>\n",
       "      <td>T</td>\n",
       "      <td>11</td>\n",
       "      <td>T</td>\n",
       "      <td>C</td>\n",
       "    </tr>\n",
       "    <tr>\n",
       "      <th>3905</th>\n",
       "      <td>17</td>\n",
       "      <td>A</td>\n",
       "      <td>G</td>\n",
       "      <td>13</td>\n",
       "      <td>T</td>\n",
       "      <td>C</td>\n",
       "      <td>11</td>\n",
       "      <td>A</td>\n",
       "      <td>G</td>\n",
       "    </tr>\n",
       "    <tr>\n",
       "      <th>...</th>\n",
       "      <td>...</td>\n",
       "      <td>...</td>\n",
       "      <td>...</td>\n",
       "      <td>...</td>\n",
       "      <td>...</td>\n",
       "      <td>...</td>\n",
       "      <td>...</td>\n",
       "      <td>...</td>\n",
       "      <td>...</td>\n",
       "    </tr>\n",
       "    <tr>\n",
       "      <th>1522</th>\n",
       "      <td>17</td>\n",
       "      <td>C</td>\n",
       "      <td>T</td>\n",
       "      <td>13</td>\n",
       "      <td>C</td>\n",
       "      <td>T</td>\n",
       "      <td>11</td>\n",
       "      <td>G</td>\n",
       "      <td>A</td>\n",
       "    </tr>\n",
       "    <tr>\n",
       "      <th>528</th>\n",
       "      <td>17</td>\n",
       "      <td>A</td>\n",
       "      <td>G</td>\n",
       "      <td>13</td>\n",
       "      <td>G</td>\n",
       "      <td>A</td>\n",
       "      <td>11</td>\n",
       "      <td>T</td>\n",
       "      <td>C</td>\n",
       "    </tr>\n",
       "    <tr>\n",
       "      <th>1984</th>\n",
       "      <td>17</td>\n",
       "      <td>C</td>\n",
       "      <td>T</td>\n",
       "      <td>13</td>\n",
       "      <td>G</td>\n",
       "      <td>A</td>\n",
       "      <td>11</td>\n",
       "      <td>C</td>\n",
       "      <td>T</td>\n",
       "    </tr>\n",
       "    <tr>\n",
       "      <th>235</th>\n",
       "      <td>17</td>\n",
       "      <td>A</td>\n",
       "      <td>C</td>\n",
       "      <td>13</td>\n",
       "      <td>A</td>\n",
       "      <td>G</td>\n",
       "      <td>11</td>\n",
       "      <td>G</td>\n",
       "      <td>C</td>\n",
       "    </tr>\n",
       "    <tr>\n",
       "      <th>1758</th>\n",
       "      <td>17</td>\n",
       "      <td>T</td>\n",
       "      <td>C</td>\n",
       "      <td>13</td>\n",
       "      <td>A</td>\n",
       "      <td>G</td>\n",
       "      <td>11</td>\n",
       "      <td>C</td>\n",
       "      <td>A</td>\n",
       "    </tr>\n",
       "  </tbody>\n",
       "</table>\n",
       "<p>986 rows × 9 columns</p>\n",
       "</div>"
      ],
      "text/plain": [
       "      Brca1_Chromosome Brca1_Reference Brca1_Alternate  Brca2_Chromosome  \\\n",
       "1288                17               G               A                13   \n",
       "983                 17               C               A                13   \n",
       "4319                17               G               A                13   \n",
       "4544                17               C               A                13   \n",
       "3905                17               A               G                13   \n",
       "...                ...             ...             ...               ...   \n",
       "1522                17               C               T                13   \n",
       "528                 17               A               G                13   \n",
       "1984                17               C               T                13   \n",
       "235                 17               A               C                13   \n",
       "1758                17               T               C                13   \n",
       "\n",
       "     Brca2_Reference Brca2_Alternate  ATM_Chromosome ATM_Reference  \\\n",
       "1288               G               A              11             A   \n",
       "983                T               G              11             G   \n",
       "4319               G               A              11             C   \n",
       "4544               G               T              11             T   \n",
       "3905               T               C              11             A   \n",
       "...              ...             ...             ...           ...   \n",
       "1522               C               T              11             G   \n",
       "528                G               A              11             T   \n",
       "1984               G               A              11             C   \n",
       "235                A               G              11             G   \n",
       "1758               A               G              11             C   \n",
       "\n",
       "     ATM_Alternate  \n",
       "1288             G  \n",
       "983              C  \n",
       "4319             T  \n",
       "4544             C  \n",
       "3905             G  \n",
       "...            ...  \n",
       "1522             A  \n",
       "528              C  \n",
       "1984             T  \n",
       "235              C  \n",
       "1758             A  \n",
       "\n",
       "[986 rows x 9 columns]"
      ]
     },
     "execution_count": 58,
     "metadata": {},
     "output_type": "execute_result"
    }
   ],
   "source": [
    "X_test"
   ]
  },
  {
   "cell_type": "code",
   "execution_count": 56,
   "metadata": {},
   "outputs": [
    {
     "data": {
      "text/plain": [
       "array([0, 1, 0, 1, 0, 1, 1, 1, 0, 1, 1, 0, 1, 0, 1, 1, 1, 0, 0, 0, 1, 0,\n",
       "       0, 0, 0, 0, 0, 0, 1, 0, 1, 0, 0, 0, 0, 1, 1, 0, 0, 0, 0, 1, 0, 0,\n",
       "       1, 0, 1, 0, 0, 0, 1, 1, 0, 1, 0, 0, 1, 1, 0, 1, 1, 0, 1, 0, 0, 0,\n",
       "       0, 0, 0, 0, 0, 1, 0, 0, 0, 0, 0, 0, 1, 0, 0, 1, 0, 1, 1, 0, 1, 1,\n",
       "       0, 0, 0, 1, 0, 1, 1, 0, 0, 1, 1, 1, 0, 1, 1, 1, 0, 1, 0, 0, 0, 0,\n",
       "       1, 0, 1, 1, 0, 0, 0, 0, 0, 0, 0, 0, 0, 0, 0, 0, 0, 1, 0, 0, 0, 0,\n",
       "       1, 1, 0, 0, 0, 1, 0, 0, 1, 0, 0, 1, 0, 0, 0, 0, 0, 0, 0, 1, 0, 1,\n",
       "       0, 0, 0, 0, 1, 0, 0, 1, 1, 0, 0, 0, 0, 0, 1, 1, 1, 1, 0, 0, 0, 1,\n",
       "       1, 1, 1, 1, 1, 1, 0, 0, 0, 0, 1, 0, 0, 0, 0, 1, 1, 0, 1, 0, 0, 0,\n",
       "       1, 0, 0, 0, 1, 1, 1, 1, 0, 0, 0, 0, 0, 0, 0, 1, 1, 1, 1, 0, 1, 0,\n",
       "       0, 0, 0, 1, 0, 0, 0, 1, 0, 0, 0, 1, 1, 0, 0, 1, 0, 0, 1, 0, 0, 0,\n",
       "       0, 1, 0, 1, 0, 0, 0, 0, 0, 0, 0, 0, 0, 1, 1, 0, 1, 1, 1, 0, 0, 0,\n",
       "       1, 0, 0, 0, 0, 0, 0, 0, 0, 1, 1, 0, 0, 0, 0, 1, 1, 0, 1, 1, 0, 0,\n",
       "       0, 0, 0, 0, 0, 1, 0, 0, 0, 0, 1, 0, 0, 0, 0, 1, 0, 0, 0, 0, 0, 0,\n",
       "       1, 0, 0, 0, 0, 0, 0, 1, 0, 0, 0, 1, 0, 0, 0, 1, 1, 0, 0, 0, 1, 0,\n",
       "       1, 0, 0, 1, 1, 0, 1, 1, 1, 0, 0, 1, 0, 0, 0, 0, 0, 0, 0, 0, 1, 0,\n",
       "       1, 1, 1, 0, 1, 1, 0, 1, 1, 0, 0, 0, 1, 0, 0, 0, 1, 0, 1, 0, 0, 0,\n",
       "       0, 0, 0, 1, 0, 1, 1, 1, 1, 1, 0, 1, 1, 0, 0, 0, 0, 0, 1, 0, 0, 1,\n",
       "       0, 1, 0, 1, 0, 1, 0, 1, 1, 0, 0, 0, 0, 0, 1, 0, 1, 0, 0, 1, 1, 1,\n",
       "       0, 1, 1, 0, 1, 1, 1, 0, 0, 1, 1, 0, 0, 0, 1, 0, 0, 1, 0, 1, 0, 0,\n",
       "       0, 0, 0, 1, 1, 0, 1, 1, 0, 1, 0, 1, 0, 1, 0, 1, 0, 0, 1, 0, 1, 0,\n",
       "       0, 0, 1, 0, 0, 0, 1, 1, 0, 0, 0, 0, 1, 1, 0, 0, 0, 0, 1, 0, 1, 0,\n",
       "       1, 1, 1, 1, 1, 1, 1, 1, 0, 1, 0, 0, 0, 1, 0, 1, 0, 1, 1, 1, 1, 0,\n",
       "       1, 0, 1, 0, 0, 0, 0, 0, 1, 0, 0, 1, 0, 0, 0, 1, 1, 1, 1, 0, 0, 1,\n",
       "       0, 0, 1, 1, 1, 1, 0, 1, 0, 0, 0, 0, 0, 0, 1, 0, 0, 0, 0, 0, 0, 0,\n",
       "       0, 0, 0, 0, 0, 0, 1, 0, 1, 0, 0, 0, 1, 1, 0, 0, 0, 0, 0, 1, 1, 1,\n",
       "       0, 0, 1, 1, 1, 0, 0, 1, 1, 0, 0, 0, 1, 0, 1, 1, 0, 0, 0, 0, 1, 1,\n",
       "       0, 0, 0, 1, 1, 0, 0, 0, 1, 0, 1, 1, 0, 1, 0, 0, 1, 0, 0, 0, 0, 0,\n",
       "       0, 1, 1, 1, 0, 0, 1, 0, 0, 0, 1, 1, 1, 0, 1, 0, 1, 0, 0, 0, 1, 1,\n",
       "       1, 0, 0, 0, 1, 0, 1, 1, 0, 0, 0, 0, 1, 0, 1, 0, 1, 0, 1, 0, 0, 1,\n",
       "       0, 0, 0, 1, 1, 0, 0, 0, 0, 1, 1, 1, 1, 0, 1, 0, 0, 0, 0, 1, 1, 1,\n",
       "       1, 0, 0, 1, 0, 0, 0, 0, 1, 1, 0, 0, 0, 0, 0, 1, 0, 0, 0, 1, 0, 1,\n",
       "       0, 0, 0, 0, 0, 1, 1, 1, 1, 0, 0, 1, 0, 1, 1, 0, 0, 0, 1, 0, 0, 1,\n",
       "       1, 0, 0, 0, 1, 0, 0, 0, 1, 0, 0, 1, 0, 0, 0, 0, 1, 0, 1, 0, 1, 0,\n",
       "       0, 0, 0, 1, 0, 0, 0, 1, 0, 0, 1, 0, 1, 1, 1, 0, 0, 0, 1, 1, 0, 0,\n",
       "       0, 1, 0, 0, 0, 1, 0, 0, 1, 0, 0, 0, 1, 1, 1, 0, 0, 0, 0, 1, 1, 0,\n",
       "       0, 0, 0, 0, 1, 0, 1, 0, 0, 1, 0, 0, 1, 0, 1, 0, 0, 0, 1, 0, 1, 1,\n",
       "       0, 0, 0, 0, 0, 1, 0, 0, 0, 0, 0, 0, 0, 0, 1, 1, 1, 0, 1, 0, 0, 0,\n",
       "       0, 1, 0, 1, 1, 0, 1, 0, 0, 0, 0, 0, 0, 0, 0, 0, 1, 1, 0, 1, 0, 0,\n",
       "       1, 1, 0, 0, 0, 0, 1, 0, 0, 0, 1, 1, 0, 1, 0, 0, 0, 1, 1, 1, 1, 0,\n",
       "       0, 1, 0, 0, 0, 1, 1, 0, 0, 0, 1, 0, 0, 0, 0, 0, 1, 1, 1, 1, 0, 0,\n",
       "       0, 1, 0, 1, 0, 0, 0, 0, 1, 1, 1, 0, 0, 0, 0, 1, 0, 1, 1, 1, 0, 0,\n",
       "       1, 1, 0, 1, 0, 1, 1, 1, 0, 1, 1, 1, 0, 0, 1, 1, 0, 1, 1, 1, 1, 0,\n",
       "       0, 0, 0, 1, 1, 1, 0, 0, 1, 1, 0, 1, 0, 0, 0, 1, 0, 0, 0, 1, 0, 1,\n",
       "       1, 1, 0, 0, 1, 1, 0, 1, 1, 1, 0, 1, 0, 0, 0, 0, 1, 0], dtype=int64)"
      ]
     },
     "execution_count": 56,
     "metadata": {},
     "output_type": "execute_result"
    }
   ],
   "source": [
    "model.predict(ohe_X_test)"
   ]
  },
  {
   "cell_type": "code",
   "execution_count": null,
   "metadata": {},
   "outputs": [],
   "source": []
  }
 ],
 "metadata": {
  "kernelspec": {
   "display_name": "Python 3",
   "language": "python",
   "name": "python3"
  },
  "language_info": {
   "codemirror_mode": {
    "name": "ipython",
    "version": 3
   },
   "file_extension": ".py",
   "mimetype": "text/x-python",
   "name": "python",
   "nbconvert_exporter": "python",
   "pygments_lexer": "ipython3",
   "version": "3.8.3"
  }
 },
 "nbformat": 4,
 "nbformat_minor": 4
}
